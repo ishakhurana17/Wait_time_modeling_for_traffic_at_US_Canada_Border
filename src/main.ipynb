{
 "cells": [
  {
   "cell_type": "code",
   "execution_count": 1,
   "metadata": {},
   "outputs": [],
   "source": [
    "#importing relevant libraries\n",
    "\n",
    "import pandas as pd\n",
    "import numpy as np\n",
    "import datetime\n",
    "from datetime import date\n",
    "import holidays\n",
    "import warnings\n",
    "import os\n",
    "from sklearn.preprocessing import OneHotEncoder\n",
    "import matplotlib.pyplot as plt\n",
    "import statsmodels.api as sm\n",
    "from sklearn.model_selection import train_test_split\n",
    "from sklearn.linear_model import LogisticRegression\n",
    "from sklearn import metrics\n",
    "from sklearn.metrics import confusion_matrix\n",
    "from sklearn.metrics import classification_report\n",
    "from imblearn.over_sampling import SMOTE\n",
    "\n",
    "warnings.filterwarnings('ignore')"
   ]
  },
  {
   "cell_type": "code",
   "execution_count": 2,
   "metadata": {},
   "outputs": [],
   "source": [
    "# importing wait time data\n",
    "colNames = ('CBSA Office', 'Location', 'Updated', 'Commercial Flow', 'Travellers Flow')\n",
    "wait_time_df = pd.DataFrame(columns = colNames)\n",
    "\n",
    "for subdir, dirs, files in os.walk(\"../data/wait time/\"):\n",
    "    for file in files:\n",
    "        df = pd.read_csv(f'{subdir}{file}')\n",
    "        if df.columns[4] != 'Travellers Flow':\n",
    "            df = df.rename(columns = {df.columns[4]:'Travellers Flow'})\n",
    "        wait_time_df = wait_time_df.merge(df, how='outer')        "
   ]
  },
  {
   "cell_type": "code",
   "execution_count": 3,
   "metadata": {},
   "outputs": [],
   "source": [
    "# filteration of data to get data of Peace Bridge and Travellers flow only\n",
    "peace_bridge_df = (wait_time_df.loc[wait_time_df['CBSA Office'] == 'Peace Bridge'])\n",
    "peace_bridge_df = peace_bridge_df.reset_index(drop = True)\n",
    "peace_bridge_df = peace_bridge_df.drop(columns ='Commercial Flow', axis = 1)"
   ]
  },
  {
   "cell_type": "code",
   "execution_count": 4,
   "metadata": {},
   "outputs": [],
   "source": [
    "# dropping duplicates that incurred while merging data files(during import)\n",
    "peace_bridge_df = peace_bridge_df.drop_duplicates()"
   ]
  },
  {
   "cell_type": "code",
   "execution_count": 5,
   "metadata": {},
   "outputs": [],
   "source": [
    "# dropping rows that contain wait time for travellers flow as Missed entry\n",
    "peace_bridge_df = peace_bridge_df[-peace_bridge_df['Travellers Flow'].isin(['Missed entry'])]"
   ]
  },
  {
   "cell_type": "code",
   "execution_count": 6,
   "metadata": {},
   "outputs": [],
   "source": [
    "# importing weather data\n",
    "data2 = pd.read_csv(\"../data/weather_data.csv\")"
   ]
  },
  {
   "cell_type": "code",
   "execution_count": 7,
   "metadata": {},
   "outputs": [],
   "source": [
    "# filtering data to get date and weather type only\n",
    "weather_data = data2[['DATE', 'HourlyPresentWeatherType']]"
   ]
  },
  {
   "cell_type": "code",
   "execution_count": 8,
   "metadata": {},
   "outputs": [],
   "source": [
    "# dropping null values\n",
    "weather_data = weather_data.dropna(axis = 0, how = 'any')"
   ]
  },
  {
   "cell_type": "code",
   "execution_count": 9,
   "metadata": {},
   "outputs": [],
   "source": [
    "# changing the type of column as datetime\n",
    "weather_data['DATE'] = weather_data['DATE'].astype('datetime64[h]')\n",
    "peace_bridge_df['Updated'] = peace_bridge_df['Updated'].astype('datetime64[h]')"
   ]
  },
  {
   "cell_type": "code",
   "execution_count": 10,
   "metadata": {},
   "outputs": [],
   "source": [
    "# dropping duplicates for merging the two data sets\n",
    "weather_data = weather_data.drop_duplicates(subset='DATE', keep=\"first\")"
   ]
  },
  {
   "cell_type": "code",
   "execution_count": 11,
   "metadata": {},
   "outputs": [],
   "source": [
    "weather_data = weather_data.rename(columns={'DATE': 'Updated'})"
   ]
  },
  {
   "cell_type": "code",
   "execution_count": 12,
   "metadata": {},
   "outputs": [],
   "source": [
    "peace_bridge_and_weather_merged = peace_bridge_df.merge(weather_data, on='Updated', how='inner')"
   ]
  },
  {
   "cell_type": "code",
   "execution_count": 13,
   "metadata": {},
   "outputs": [],
   "source": [
    "# importing weather codes data\n",
    "weather_codes = pd.read_csv(\"../data/weather_codes.csv\")"
   ]
  },
  {
   "cell_type": "code",
   "execution_count": 14,
   "metadata": {},
   "outputs": [],
   "source": [
    "# creating a dictionary of weather codes\n",
    "weather_dict = dict(zip(weather_codes['weather_code'], weather_codes['weather_type']))"
   ]
  },
  {
   "cell_type": "code",
   "execution_count": 15,
   "metadata": {},
   "outputs": [],
   "source": [
    "# function to pick the weather code from the weather type column\n",
    "def parse_weather(weather_string):\n",
    "    tok = weather_string.split('|')\n",
    "    tok = [i.strip() for i in tok]\n",
    "    for section in tok:\n",
    "        if section != '':\n",
    "            tok_2 = section.split(' ')\n",
    "            for symbol in tok_2:\n",
    "                symbol  = symbol[1:] if symbol.startswith(('-', '+')) else symbol\n",
    "                if symbol in weather_dict:\n",
    "                    return symbol\n",
    "    return np.nan"
   ]
  },
  {
   "cell_type": "code",
   "execution_count": 16,
   "metadata": {},
   "outputs": [],
   "source": [
    "# calling the above function to get the code for weather_type\n",
    "peace_bridge_and_weather_merged['HourlyPresentWeatherType'] = peace_bridge_and_weather_merged['HourlyPresentWeatherType'].apply(parse_weather)\n",
    "peace_bridge_and_weather_merged = peace_bridge_and_weather_merged.dropna(axis = 0, how = 'any')"
   ]
  },
  {
   "cell_type": "code",
   "execution_count": 17,
   "metadata": {},
   "outputs": [],
   "source": [
    "# renaming weather column\n",
    "peace_bridge_and_weather_merged = peace_bridge_and_weather_merged.rename(columns={'HourlyPresentWeatherType': 'Weather_Type'})"
   ]
  },
  {
   "cell_type": "code",
   "execution_count": 18,
   "metadata": {},
   "outputs": [],
   "source": [
    "# Extracting Date\n",
    "peace_bridge_and_weather_merged['Date'] = pd.to_datetime(peace_bridge_and_weather_merged['Updated']).dt.date\n",
    "\n",
    "# Days Names of the days\n",
    "peace_bridge_and_weather_merged['Date'] = peace_bridge_and_weather_merged['Date'].astype('datetime64[ns]')\n",
    "peace_bridge_and_weather_merged['Days'] = peace_bridge_and_weather_merged['Date'].dt.weekday_name\n",
    "\n",
    "# Day Status of the days in week\n",
    "peace_bridge_and_weather_merged['DayStatus'] = peace_bridge_and_weather_merged['Date'].dt.weekday\n",
    "days = {0:'Weekday',1:'Weekday',2:'Weekday',3:'Weekday',4:'Weekday',5:'Weekend',6:'Weekend'}\n",
    "peace_bridge_and_weather_merged['DayStatus'] = peace_bridge_and_weather_merged['DayStatus'].apply(lambda x:days[x])\n",
    "                                                                \n",
    "# Extracting year\n",
    "peace_bridge_and_weather_merged['Year'] = pd.DatetimeIndex(peace_bridge_and_weather_merged['Updated']).year\n",
    "\n",
    "# Extracting hour\n",
    "peace_bridge_and_weather_merged['TimeHour'] = pd.to_datetime(peace_bridge_and_weather_merged['Updated']).dt.hour"
   ]
  },
  {
   "cell_type": "code",
   "execution_count": 19,
   "metadata": {},
   "outputs": [
    {
     "data": {
      "text/html": [
       "<div>\n",
       "<style scoped>\n",
       "    .dataframe tbody tr th:only-of-type {\n",
       "        vertical-align: middle;\n",
       "    }\n",
       "\n",
       "    .dataframe tbody tr th {\n",
       "        vertical-align: top;\n",
       "    }\n",
       "\n",
       "    .dataframe thead th {\n",
       "        text-align: right;\n",
       "    }\n",
       "</style>\n",
       "<table border=\"1\" class=\"dataframe\">\n",
       "  <thead>\n",
       "    <tr style=\"text-align: right;\">\n",
       "      <th></th>\n",
       "      <th>CBSA Office</th>\n",
       "      <th>Location</th>\n",
       "      <th>Updated</th>\n",
       "      <th>Travellers Flow</th>\n",
       "      <th>Weather_Type</th>\n",
       "      <th>Date</th>\n",
       "      <th>Days</th>\n",
       "      <th>DayStatus</th>\n",
       "      <th>Year</th>\n",
       "      <th>TimeHour</th>\n",
       "    </tr>\n",
       "  </thead>\n",
       "  <tbody>\n",
       "    <tr>\n",
       "      <th>0</th>\n",
       "      <td>Peace Bridge</td>\n",
       "      <td>Fort Erie, ON</td>\n",
       "      <td>2014-04-04 12:00:00</td>\n",
       "      <td>No Delay</td>\n",
       "      <td>RA:02</td>\n",
       "      <td>2014-04-04</td>\n",
       "      <td>Friday</td>\n",
       "      <td>Weekday</td>\n",
       "      <td>2014</td>\n",
       "      <td>12</td>\n",
       "    </tr>\n",
       "    <tr>\n",
       "      <th>1</th>\n",
       "      <td>Peace Bridge</td>\n",
       "      <td>Fort Erie, ON</td>\n",
       "      <td>2014-04-04 11:00:00</td>\n",
       "      <td>No Delay</td>\n",
       "      <td>RA:02</td>\n",
       "      <td>2014-04-04</td>\n",
       "      <td>Friday</td>\n",
       "      <td>Weekday</td>\n",
       "      <td>2014</td>\n",
       "      <td>11</td>\n",
       "    </tr>\n",
       "    <tr>\n",
       "      <th>2</th>\n",
       "      <td>Peace Bridge</td>\n",
       "      <td>Fort Erie, ON</td>\n",
       "      <td>2014-04-04 11:00:00</td>\n",
       "      <td>No Delay</td>\n",
       "      <td>RA:02</td>\n",
       "      <td>2014-04-04</td>\n",
       "      <td>Friday</td>\n",
       "      <td>Weekday</td>\n",
       "      <td>2014</td>\n",
       "      <td>11</td>\n",
       "    </tr>\n",
       "    <tr>\n",
       "      <th>4</th>\n",
       "      <td>Peace Bridge</td>\n",
       "      <td>Fort Erie, ON</td>\n",
       "      <td>2014-04-04 00:00:00</td>\n",
       "      <td>No Delay</td>\n",
       "      <td>RA:02</td>\n",
       "      <td>2014-04-04</td>\n",
       "      <td>Friday</td>\n",
       "      <td>Weekday</td>\n",
       "      <td>2014</td>\n",
       "      <td>0</td>\n",
       "    </tr>\n",
       "    <tr>\n",
       "      <th>5</th>\n",
       "      <td>Peace Bridge</td>\n",
       "      <td>Fort Erie, ON</td>\n",
       "      <td>2014-03-30 07:00:00</td>\n",
       "      <td>No Delay</td>\n",
       "      <td>SN:03</td>\n",
       "      <td>2014-03-30</td>\n",
       "      <td>Sunday</td>\n",
       "      <td>Weekend</td>\n",
       "      <td>2014</td>\n",
       "      <td>7</td>\n",
       "    </tr>\n",
       "  </tbody>\n",
       "</table>\n",
       "</div>"
      ],
      "text/plain": [
       "    CBSA Office       Location             Updated Travellers Flow  \\\n",
       "0  Peace Bridge  Fort Erie, ON 2014-04-04 12:00:00        No Delay   \n",
       "1  Peace Bridge  Fort Erie, ON 2014-04-04 11:00:00        No Delay   \n",
       "2  Peace Bridge  Fort Erie, ON 2014-04-04 11:00:00        No Delay   \n",
       "4  Peace Bridge  Fort Erie, ON 2014-04-04 00:00:00        No Delay   \n",
       "5  Peace Bridge  Fort Erie, ON 2014-03-30 07:00:00        No Delay   \n",
       "\n",
       "  Weather_Type       Date    Days DayStatus  Year  TimeHour  \n",
       "0        RA:02 2014-04-04  Friday   Weekday  2014        12  \n",
       "1        RA:02 2014-04-04  Friday   Weekday  2014        11  \n",
       "2        RA:02 2014-04-04  Friday   Weekday  2014        11  \n",
       "4        RA:02 2014-04-04  Friday   Weekday  2014         0  \n",
       "5        SN:03 2014-03-30  Sunday   Weekend  2014         7  "
      ]
     },
     "execution_count": 19,
     "metadata": {},
     "output_type": "execute_result"
    }
   ],
   "source": [
    "peace_bridge_and_weather_merged.head()"
   ]
  },
  {
   "cell_type": "code",
   "execution_count": 20,
   "metadata": {},
   "outputs": [],
   "source": [
    "# Changing No Delay entries in WaitTime Column\n",
    "peace_bridge_and_weather_merged['Travellers Flow'] = np.where(peace_bridge_and_weather_merged['Travellers Flow'] == 'No delay', 'No Delay', peace_bridge_and_weather_merged['Travellers Flow'])"
   ]
  },
  {
   "cell_type": "code",
   "execution_count": 47,
   "metadata": {},
   "outputs": [
    {
     "data": {
      "text/html": [
       "<div>\n",
       "<style scoped>\n",
       "    .dataframe tbody tr th:only-of-type {\n",
       "        vertical-align: middle;\n",
       "    }\n",
       "\n",
       "    .dataframe tbody tr th {\n",
       "        vertical-align: top;\n",
       "    }\n",
       "\n",
       "    .dataframe thead th {\n",
       "        text-align: right;\n",
       "    }\n",
       "</style>\n",
       "<table border=\"1\" class=\"dataframe\">\n",
       "  <thead>\n",
       "    <tr style=\"text-align: right;\">\n",
       "      <th></th>\n",
       "      <th>Year</th>\n",
       "      <th>TimeHour</th>\n",
       "      <th>Wait_Time</th>\n",
       "      <th>TravellerLogit</th>\n",
       "    </tr>\n",
       "  </thead>\n",
       "  <tbody>\n",
       "    <tr>\n",
       "      <th>count</th>\n",
       "      <td>40841.000000</td>\n",
       "      <td>40841.000000</td>\n",
       "      <td>40841.000000</td>\n",
       "      <td>40841.000000</td>\n",
       "    </tr>\n",
       "    <tr>\n",
       "      <th>mean</th>\n",
       "      <td>2014.604099</td>\n",
       "      <td>11.169389</td>\n",
       "      <td>1.332289</td>\n",
       "      <td>0.031904</td>\n",
       "    </tr>\n",
       "    <tr>\n",
       "      <th>std</th>\n",
       "      <td>1.559211</td>\n",
       "      <td>7.178114</td>\n",
       "      <td>3.508725</td>\n",
       "      <td>0.175747</td>\n",
       "    </tr>\n",
       "    <tr>\n",
       "      <th>min</th>\n",
       "      <td>2010.000000</td>\n",
       "      <td>0.000000</td>\n",
       "      <td>0.000000</td>\n",
       "      <td>0.000000</td>\n",
       "    </tr>\n",
       "    <tr>\n",
       "      <th>25%</th>\n",
       "      <td>2015.000000</td>\n",
       "      <td>5.000000</td>\n",
       "      <td>0.000000</td>\n",
       "      <td>0.000000</td>\n",
       "    </tr>\n",
       "    <tr>\n",
       "      <th>50%</th>\n",
       "      <td>2015.000000</td>\n",
       "      <td>11.000000</td>\n",
       "      <td>0.000000</td>\n",
       "      <td>0.000000</td>\n",
       "    </tr>\n",
       "    <tr>\n",
       "      <th>75%</th>\n",
       "      <td>2015.000000</td>\n",
       "      <td>18.000000</td>\n",
       "      <td>1.000000</td>\n",
       "      <td>0.000000</td>\n",
       "    </tr>\n",
       "    <tr>\n",
       "      <th>max</th>\n",
       "      <td>2017.000000</td>\n",
       "      <td>23.000000</td>\n",
       "      <td>75.000000</td>\n",
       "      <td>1.000000</td>\n",
       "    </tr>\n",
       "  </tbody>\n",
       "</table>\n",
       "</div>"
      ],
      "text/plain": [
       "               Year      TimeHour     Wait_Time  TravellerLogit\n",
       "count  40841.000000  40841.000000  40841.000000    40841.000000\n",
       "mean    2014.604099     11.169389      1.332289        0.031904\n",
       "std        1.559211      7.178114      3.508725        0.175747\n",
       "min     2010.000000      0.000000      0.000000        0.000000\n",
       "25%     2015.000000      5.000000      0.000000        0.000000\n",
       "50%     2015.000000     11.000000      0.000000        0.000000\n",
       "75%     2015.000000     18.000000      1.000000        0.000000\n",
       "max     2017.000000     23.000000     75.000000        1.000000"
      ]
     },
     "execution_count": 47,
     "metadata": {},
     "output_type": "execute_result"
    }
   ],
   "source": [
    "peace_bridge_and_weather_merged['Wait_Time'] = np.where(peace_bridge_and_weather_merged['Travellers Flow'] == 'No Delay', 0, peace_bridge_and_weather_merged['Travellers Flow'])\n",
    "peace_bridge_and_weather_merged['Wait_Time'] = peace_bridge_and_weather_merged['Wait_Time'].astype('int32')\n",
    "# descriptive statistics of dataset\n",
    "peace_bridge_and_weather_merged.describe()"
   ]
  },
  {
   "cell_type": "code",
   "execution_count": 22,
   "metadata": {},
   "outputs": [
    {
     "name": "stdout",
     "output_type": "stream",
     "text": [
      "count    40841.000000\n",
      "mean         1.332289\n",
      "std          3.508725\n",
      "min          0.000000\n",
      "25%          0.000000\n",
      "50%          0.000000\n",
      "75%          1.000000\n",
      "max         75.000000\n",
      "Name: Wait_Time, dtype: float64\n"
     ]
    },
    {
     "data": {
      "image/png": "[encoded data removed]",
      "text/plain": [
       "<Figure size 432x288 with 1 Axes>"
      ]
     },
     "metadata": {
      "needs_background": "light"
     },
     "output_type": "display_data"
    }
   ],
   "source": [
    "# EDA- looking at the distribution of Wait time\n",
    "import seaborn as sns\n",
    "\n",
    "print(peace_bridge_and_weather_merged['Wait_Time'].describe())\n",
    "plt.figure()\n",
    "sns.distplot(peace_bridge_and_weather_merged['Wait_Time'], bins=25, hist_kws={'alpha': 0.4})\n",
    "plt.suptitle('Distribution of wait_Time variable', fontsize=16)\n",
    "plt.show()"
   ]
  },
  {
   "cell_type": "code",
   "execution_count": 23,
   "metadata": {},
   "outputs": [],
   "source": [
    "# WaitTime column for Logistic Regression\n",
    "peace_bridge_and_weather_merged['TravellerLogit'] = np.where(peace_bridge_and_weather_merged['Wait_Time']<10, 0, 1)\n"
   ]
  },
  {
   "cell_type": "code",
   "execution_count": 49,
   "metadata": {},
   "outputs": [
    {
     "name": "stdout",
     "output_type": "stream",
     "text": [
      "0    39538\n",
      "1     1303\n",
      "Name: TravellerLogit, dtype: int64\n"
     ]
    },
    {
     "data": {
      "image/png": "[encoded data removed]",
      "text/plain": [
       "<Figure size 720x360 with 1 Axes>"
      ]
     },
     "metadata": {
      "needs_background": "light"
     },
     "output_type": "display_data"
    }
   ],
   "source": [
    "# TravellerLogit count chart\n",
    "import matplotlib.pyplot as plt\n",
    "TravellerLogit_count = peace_bridge_and_weather_merged['TravellerLogit'].value_counts()\n",
    "print(TravellerLogit_count)\n",
    "ax = TravellerLogit_count.plot(kind='bar', title =\"TravellerLogit count chart\", figsize=(10, 5), legend=True, fontsize=12)\n",
    "ax.set_xlabel(\"Logistic Wait Time\", fontsize=12)\n",
    "plt.show()"
   ]
  },
  {
   "cell_type": "code",
   "execution_count": null,
   "metadata": {},
   "outputs": [],
   "source": []
  },
  {
   "cell_type": "code",
   "execution_count": 25,
   "metadata": {},
   "outputs": [
    {
     "data": {
      "text/html": [
       "<div>\n",
       "<style scoped>\n",
       "    .dataframe tbody tr th:only-of-type {\n",
       "        vertical-align: middle;\n",
       "    }\n",
       "\n",
       "    .dataframe tbody tr th {\n",
       "        vertical-align: top;\n",
       "    }\n",
       "\n",
       "    .dataframe thead th {\n",
       "        text-align: right;\n",
       "    }\n",
       "</style>\n",
       "<table border=\"1\" class=\"dataframe\">\n",
       "  <thead>\n",
       "    <tr style=\"text-align: right;\">\n",
       "      <th></th>\n",
       "      <th>CBSA Office</th>\n",
       "      <th>Location</th>\n",
       "      <th>Updated</th>\n",
       "      <th>Travellers Flow</th>\n",
       "      <th>Weather_Type</th>\n",
       "      <th>Date</th>\n",
       "      <th>Days</th>\n",
       "      <th>DayStatus</th>\n",
       "      <th>Year</th>\n",
       "      <th>TimeHour</th>\n",
       "      <th>Wait_Time</th>\n",
       "      <th>TravellerLogit</th>\n",
       "    </tr>\n",
       "  </thead>\n",
       "  <tbody>\n",
       "    <tr>\n",
       "      <th>44900</th>\n",
       "      <td>Peace Bridge</td>\n",
       "      <td>Fort Erie, ON</td>\n",
       "      <td>2017-01-02 16:00:00</td>\n",
       "      <td>19</td>\n",
       "      <td>RA:02</td>\n",
       "      <td>2017-01-02</td>\n",
       "      <td>Monday</td>\n",
       "      <td>Weekday</td>\n",
       "      <td>2017</td>\n",
       "      <td>16</td>\n",
       "      <td>19</td>\n",
       "      <td>1</td>\n",
       "    </tr>\n",
       "    <tr>\n",
       "      <th>44901</th>\n",
       "      <td>Peace Bridge</td>\n",
       "      <td>Fort Erie, ON</td>\n",
       "      <td>2017-01-02 16:00:00</td>\n",
       "      <td>13</td>\n",
       "      <td>RA:02</td>\n",
       "      <td>2017-01-02</td>\n",
       "      <td>Monday</td>\n",
       "      <td>Weekday</td>\n",
       "      <td>2017</td>\n",
       "      <td>16</td>\n",
       "      <td>13</td>\n",
       "      <td>1</td>\n",
       "    </tr>\n",
       "    <tr>\n",
       "      <th>44902</th>\n",
       "      <td>Peace Bridge</td>\n",
       "      <td>Fort Erie, ON</td>\n",
       "      <td>2017-01-02 16:00:00</td>\n",
       "      <td>15</td>\n",
       "      <td>RA:02</td>\n",
       "      <td>2017-01-02</td>\n",
       "      <td>Monday</td>\n",
       "      <td>Weekday</td>\n",
       "      <td>2017</td>\n",
       "      <td>16</td>\n",
       "      <td>15</td>\n",
       "      <td>1</td>\n",
       "    </tr>\n",
       "    <tr>\n",
       "      <th>44903</th>\n",
       "      <td>Peace Bridge</td>\n",
       "      <td>Fort Erie, ON</td>\n",
       "      <td>2017-01-03 08:00:00</td>\n",
       "      <td>No Delay</td>\n",
       "      <td>RA:02</td>\n",
       "      <td>2017-01-03</td>\n",
       "      <td>Tuesday</td>\n",
       "      <td>Weekday</td>\n",
       "      <td>2017</td>\n",
       "      <td>8</td>\n",
       "      <td>0</td>\n",
       "      <td>0</td>\n",
       "    </tr>\n",
       "    <tr>\n",
       "      <th>44904</th>\n",
       "      <td>Peace Bridge</td>\n",
       "      <td>Fort Erie, ON</td>\n",
       "      <td>2017-01-03 09:00:00</td>\n",
       "      <td>No Delay</td>\n",
       "      <td>RA:02</td>\n",
       "      <td>2017-01-03</td>\n",
       "      <td>Tuesday</td>\n",
       "      <td>Weekday</td>\n",
       "      <td>2017</td>\n",
       "      <td>9</td>\n",
       "      <td>0</td>\n",
       "      <td>0</td>\n",
       "    </tr>\n",
       "  </tbody>\n",
       "</table>\n",
       "</div>"
      ],
      "text/plain": [
       "        CBSA Office       Location             Updated Travellers Flow  \\\n",
       "44900  Peace Bridge  Fort Erie, ON 2017-01-02 16:00:00              19   \n",
       "44901  Peace Bridge  Fort Erie, ON 2017-01-02 16:00:00              13   \n",
       "44902  Peace Bridge  Fort Erie, ON 2017-01-02 16:00:00              15   \n",
       "44903  Peace Bridge  Fort Erie, ON 2017-01-03 08:00:00        No Delay   \n",
       "44904  Peace Bridge  Fort Erie, ON 2017-01-03 09:00:00        No Delay   \n",
       "\n",
       "      Weather_Type       Date     Days DayStatus  Year  TimeHour  Wait_Time  \\\n",
       "44900        RA:02 2017-01-02   Monday   Weekday  2017        16         19   \n",
       "44901        RA:02 2017-01-02   Monday   Weekday  2017        16         13   \n",
       "44902        RA:02 2017-01-02   Monday   Weekday  2017        16         15   \n",
       "44903        RA:02 2017-01-03  Tuesday   Weekday  2017         8          0   \n",
       "44904        RA:02 2017-01-03  Tuesday   Weekday  2017         9          0   \n",
       "\n",
       "       TravellerLogit  \n",
       "44900               1  \n",
       "44901               1  \n",
       "44902               1  \n",
       "44903               0  \n",
       "44904               0  "
      ]
     },
     "execution_count": 25,
     "metadata": {},
     "output_type": "execute_result"
    }
   ],
   "source": [
    "# Splitting the data into 2 parts as 2010-2016 (training period) & 2017 (testing period)\n",
    "is_2017 = peace_bridge_and_weather_merged['Year'] == 2017\n",
    "final_df_2017 = peace_bridge_and_weather_merged[is_2017]\n",
    "final_df_2017.head()"
   ]
  },
  {
   "cell_type": "code",
   "execution_count": 26,
   "metadata": {},
   "outputs": [],
   "source": [
    "is_2010_to_2016 =  [not i for i in is_2017]\n",
    "final_df_2010_to_2016 = peace_bridge_and_weather_merged[is_2010_to_2016]"
   ]
  },
  {
   "cell_type": "code",
   "execution_count": 64,
   "metadata": {
    "scrolled": true
   },
   "outputs": [
    {
     "data": {
      "image/png": "[encoded data removed]",
      "text/plain": [
       "<Figure size 1080x360 with 1 Axes>"
      ]
     },
     "metadata": {
      "needs_background": "light"
     },
     "output_type": "display_data"
    }
   ],
   "source": [
    "# 2010-2016 data\n",
    "# plotting figure showing days and hours in a day for wait time data\n",
    "fig, ax = plt.subplots(figsize=(15,5))\n",
    "Traveller_avg_waitTime = final_df_2010_to_2016.groupby([\"TimeHour\", \"Days\"])['Wait_Time'].max().unstack().plot(ax=ax)\n",
    "plt.ylabel('Average Wait Time', fontsize = 10)\n",
    "plt.xlabel('Hours', fontsize = 10)\n",
    "plt.title('Average Wait Time Per Hour',x=0.5, y=1,fontsize =15,fontweight=\"bold\")\n",
    "hour_ticks = np.arange(0, 24, 1)\n",
    "ax.set_xticks(hour_ticks)\n",
    "plt.show()"
   ]
  },
  {
   "cell_type": "code",
   "execution_count": 28,
   "metadata": {},
   "outputs": [],
   "source": [
    "# function to pick the weather code from the weather type column using the graph above\n",
    "def get_hour_status(time):\n",
    "    if time >= 0 and time <= 3:\n",
    "        return 'night'\n",
    "    elif time >= 4 and time <= 9:\n",
    "        return 'morning'\n",
    "    elif time >= 10 and time <= 15:\n",
    "        return 'afternoon'\n",
    "    elif time >= 16 and time <= 21:\n",
    "        return 'evening'\n",
    "    elif time >= 22 and time <= 23:\n",
    "        return 'night'\n",
    "    else:\n",
    "        raise Exception(f'Invalid time = {time}')"
   ]
  },
  {
   "cell_type": "code",
   "execution_count": 29,
   "metadata": {},
   "outputs": [],
   "source": [
    "# calling the funtcion above\n",
    "final_df_2010_to_2016['Hour_status'] = final_df_2010_to_2016['TimeHour'].apply(get_hour_status)\n",
    "final_df_2017['Hour_status'] = final_df_2017['TimeHour'].apply(get_hour_status)"
   ]
  },
  {
   "cell_type": "code",
   "execution_count": 30,
   "metadata": {},
   "outputs": [
    {
     "data": {
      "text/plain": [
       "SN:03    19025\n",
       "RA:02    10476\n",
       "BR:1      6058\n",
       "DZ:01     1283\n",
       "HZ:7       774\n",
       "FG:2       274\n",
       "FU:3        23\n",
       "PL:06       18\n",
       "GS:08        5\n",
       "SQ:2         2\n",
       "Name: Weather_Type, dtype: int64"
      ]
     },
     "execution_count": 30,
     "metadata": {},
     "output_type": "execute_result"
    }
   ],
   "source": [
    "# checking the counts of entries of weather types\n",
    "final_df_2010_to_2016['Weather_Type'].value_counts()"
   ]
  },
  {
   "cell_type": "code",
   "execution_count": 31,
   "metadata": {},
   "outputs": [],
   "source": [
    "# Removing weather types with insufficient data\n",
    "final_df_2010_to_2016 = final_df_2010_to_2016[~final_df_2010_to_2016['Weather_Type'].isin(['SQ:2', 'GS:08', 'PL:06', 'FU:3'])]\n",
    "final_df_2017 = final_df_2017[~final_df_2017['Weather_Type'].isin(['SQ:2', 'GS:08', 'PL:06', 'FU:3'])]"
   ]
  },
  {
   "cell_type": "code",
   "execution_count": 32,
   "metadata": {},
   "outputs": [
    {
     "name": "stdout",
     "output_type": "stream",
     "text": [
      "              Wait_Time\n",
      "Weather_Type           \n",
      "BR:1           0.990591\n",
      "DZ:01          1.371005\n",
      "FG:2           0.510949\n",
      "HZ:7           1.054264\n",
      "RA:02          1.755155\n",
      "SN:03          0.703443\n"
     ]
    },
    {
     "data": {
      "image/png": "[encoded data removed]",
      "text/plain": [
       "<Figure size 432x288 with 1 Axes>"
      ]
     },
     "metadata": {
      "needs_background": "light"
     },
     "output_type": "display_data"
    }
   ],
   "source": [
    "# comparing the average wait time during different weather types\n",
    "print(final_df_2010_to_2016[['Weather_Type', 'Wait_Time']].groupby(['Weather_Type']).mean())\n",
    "weather_average_wait_time = final_df_2010_to_2016[['Weather_Type', 'Wait_Time']].groupby(['Weather_Type']).mean().plot(kind='bar')\n",
    "weather_average_wait_time.set_xticklabels(('Mist', 'Drizzle', 'Fog', 'Haze', 'Rain', 'Snow'))\n",
    "plt.show()"
   ]
  },
  {
   "cell_type": "code",
   "execution_count": 33,
   "metadata": {},
   "outputs": [],
   "source": [
    "# Regression analysis\n",
    "# Applying OneHotEncoding using get_dummies from pandas\n",
    "dummies_df_2010_to_2016 = pd.get_dummies(final_df_2010_to_2016, columns=['Hour_status', 'Weather_Type'])\n",
    "dummies_df_2017 = pd.get_dummies(final_df_2017, columns=['Hour_status', 'Weather_Type'])"
   ]
  },
  {
   "cell_type": "code",
   "execution_count": 34,
   "metadata": {},
   "outputs": [],
   "source": [
    "# #filtering only numerical values for modeling\n",
    "# dummy_var_num = dummies_df_2010_to_2016.select_dtypes(include = ['uint8','int32', 'int64'])\n",
    "# #correlation and printing only head\n",
    "# dummy_var_corr = dummy_var_num.corr()['Wait_Time']\n",
    "# dummy_var_corr"
   ]
  },
  {
   "cell_type": "code",
   "execution_count": 35,
   "metadata": {},
   "outputs": [
    {
     "name": "stdout",
     "output_type": "stream",
     "text": [
      "['Hour_status_afternoon', 'Hour_status_evening', 'Hour_status_morning', 'Hour_status_night', 'Weather_Type_BR:1', 'Weather_Type_DZ:01', 'Weather_Type_FG:2', 'Weather_Type_HZ:7', 'Weather_Type_RA:02', 'Weather_Type_SN:03']\n"
     ]
    }
   ],
   "source": [
    "# choosing the columns for x variables for training the model\n",
    "target_columns = []\n",
    "for col in dummies_df_2010_to_2016.columns:\n",
    "    if col.startswith('Hour_status_') or col.startswith('Weather_Type_'):\n",
    "        target_columns.append(col)\n",
    "print(target_columns)"
   ]
  },
  {
   "cell_type": "code",
   "execution_count": 36,
   "metadata": {},
   "outputs": [],
   "source": [
    "# creating x & y variables for training and testing of models for both the datasets\n",
    "X_train_2010_to_2016 = dummies_df_2010_to_2016.loc[:, target_columns]\n",
    "y_train_2010_to_2016 = dummies_df_2010_to_2016.loc[:,['TravellerLogit']]\n",
    "X_test_2017 = dummies_df_2017.loc[:, target_columns]\n",
    "y_test_2017 = dummies_df_2017.loc[:,['TravellerLogit']]"
   ]
  },
  {
   "cell_type": "code",
   "execution_count": 51,
   "metadata": {},
   "outputs": [
    {
     "name": "stdout",
     "output_type": "stream",
     "text": [
      "Length of oversampled data is  74022\n",
      "Number of no subscription in oversampled data 37011\n",
      "Number of subscription 37011\n",
      "Proportion of no subscription data in oversampled data is  0.5\n",
      "Proportion of subscription data in oversampled data is  0.5\n"
     ]
    }
   ],
   "source": [
    "\n",
    "os = SMOTE(random_state=0)\n",
    "# X_train, X_test, y_train, y_test = train_test_split(X, y, test_size=0.3, random_state=0)\n",
    "columns = X_train_2010_to_2016.columns\n",
    "os_data_X, os_data_y=os.fit_sample(X_train_2010_to_2016, y_train_2010_to_2016)\n",
    "os_data_X = pd.DataFrame(data=os_data_X,columns=columns)\n",
    "os_data_y= pd.DataFrame(data=os_data_y, columns=['TravellerLogit'])\n",
    "# we can Check the numbers of our data\n",
    "print(\"Length of oversampled data is \",len(os_data_X))\n",
    "print(\"Number of no subscription in oversampled data\",len(os_data_y[os_data_y['TravellerLogit']==0]))\n",
    "print(\"Number of subscription\",len(os_data_y[os_data_y['TravellerLogit']==1]))\n",
    "print(\"Proportion of no subscription data in oversampled data is \",len(os_data_y[os_data_y['TravellerLogit']==0])/len(os_data_X))\n",
    "print(\"Proportion of subscription data in oversampled data is \",len(os_data_y[os_data_y['TravellerLogit']==1])/len(os_data_X))"
   ]
  },
  {
   "cell_type": "code",
   "execution_count": 52,
   "metadata": {},
   "outputs": [
    {
     "data": {
      "text/plain": [
       "LogisticRegression()"
      ]
     },
     "execution_count": 52,
     "metadata": {},
     "output_type": "execute_result"
    }
   ],
   "source": [
    "# training the logistic model\n",
    "logistic_reg = LogisticRegression()\n",
    "logistic_reg.fit(os_data_X, os_data_y)"
   ]
  },
  {
   "cell_type": "code",
   "execution_count": 53,
   "metadata": {},
   "outputs": [
    {
     "name": "stdout",
     "output_type": "stream",
     "text": [
      "[[1.84670296 2.87057454 0.39445646 1.93627102 2.02961899 2.3562689\n",
      "  0.20712074 1.56192448 3.04619541 2.1696095 ]]\n",
      "[-4.53324031]\n"
     ]
    }
   ],
   "source": [
    "print(logistic_reg.coef_)\n",
    "print(logistic_reg.intercept_)"
   ]
  },
  {
   "cell_type": "code",
   "execution_count": 54,
   "metadata": {},
   "outputs": [
    {
     "name": "stdout",
     "output_type": "stream",
     "text": [
      "Accuracy of logistic regression on test set of 2017: 0.55\n"
     ]
    }
   ],
   "source": [
    "# predicting/testing the data for 2017 based on the model & getting the accuracy score\n",
    "y_pred_2017 = logistic_reg.predict(X_test_2017)\n",
    "print('Accuracy of logistic regression on test set of 2017: {:.2f}'.format(logistic_reg.score(X_test_2017, y_test_2017)))"
   ]
  },
  {
   "cell_type": "code",
   "execution_count": 55,
   "metadata": {},
   "outputs": [
    {
     "name": "stdout",
     "output_type": "stream",
     "text": [
      "[[1287 1190]\n",
      " [ 127  297]]\n"
     ]
    }
   ],
   "source": [
    "from sklearn.metrics import confusion_matrix\n",
    "# creating a confusion matrix to check for false/true positives/negatives\n",
    "confusion_matrix = confusion_matrix(y_test_2017, y_pred_2017)\n",
    "print(confusion_matrix)"
   ]
  },
  {
   "cell_type": "code",
   "execution_count": 56,
   "metadata": {},
   "outputs": [
    {
     "name": "stdout",
     "output_type": "stream",
     "text": [
      "              precision    recall  f1-score   support\n",
      "\n",
      "           0       0.91      0.52      0.66      2477\n",
      "           1       0.20      0.70      0.31       424\n",
      "\n",
      "    accuracy                           0.55      2901\n",
      "   macro avg       0.55      0.61      0.49      2901\n",
      "weighted avg       0.81      0.55      0.61      2901\n",
      "\n"
     ]
    }
   ],
   "source": [
    "# extracting the summary report for the model\n",
    "print(classification_report(y_test_2017, y_pred_2017))"
   ]
  },
  {
   "cell_type": "code",
   "execution_count": 46,
   "metadata": {},
   "outputs": [
    {
     "data": {
      "image/png": "[encoded data removed]",
      "text/plain": [
       "<Figure size 432x288 with 1 Axes>"
      ]
     },
     "metadata": {
      "needs_background": "light"
     },
     "output_type": "display_data"
    }
   ],
   "source": [
    "from sklearn.metrics import roc_auc_score\n",
    "from sklearn.metrics import roc_curve\n",
    "logit_roc_auc = roc_auc_score(y_test_2017, logistic_reg.predict(X_test_2017))\n",
    "fpr, tpr, thresholds = roc_curve(y_test_2017, logistic_reg.predict_proba(X_test_2017)[:,1])\n",
    "plt.figure()\n",
    "plt.plot(fpr, tpr, label='Logistic Regression (area = %0.2f)' % logit_roc_auc)\n",
    "plt.plot([0, 1], [0, 1],'r--')\n",
    "plt.xlim([0.0, 1.0])\n",
    "plt.ylim([0.0, 1.05])\n",
    "plt.xlabel('False Positive Rate')\n",
    "plt.ylabel('True Positive Rate')\n",
    "plt.title('Receiver operating characteristic')\n",
    "plt.legend(loc=\"lower right\")\n",
    "plt.savefig('Log_ROC')\n",
    "plt.show()"
   ]
  },
  {
   "cell_type": "code",
   "execution_count": null,
   "metadata": {},
   "outputs": [],
   "source": []
  },
  {
   "cell_type": "code",
   "execution_count": null,
   "metadata": {},
   "outputs": [],
   "source": []
  }
 ],
 "metadata": {
  "kernelspec": {
   "display_name": "Python 3",
   "language": "python",
   "name": "python3"
  },
  "language_info": {
   "codemirror_mode": {
    "name": "ipython",
    "version": 3
   },
   "file_extension": ".py",
   "mimetype": "text/x-python",
   "name": "python",
   "nbconvert_exporter": "python",
   "pygments_lexer": "ipython3",
   "version": "3.7.3"
  }
 },
 "nbformat": 4,
 "nbformat_minor": 2
}
